{
 "cells": [
  {
   "cell_type": "code",
   "execution_count": 1,
   "id": "97d7e04d-12b9-44b9-9c28-68fed0203dab",
   "metadata": {},
   "outputs": [
    {
     "name": "stdout",
     "output_type": "stream",
     "text": [
      "Integer Value: 10 | Type: <class 'int'>\n",
      "Float Value: 20.5 | Type: <class 'float'>\n",
      "String Value: Hello, World | Type: <class 'str'>\n",
      "Boolean Value: True | Type: <class 'bool'>\n"
     ]
    }
   ],
   "source": [
    "# Declare variables of different data types\n",
    "integer_var = 10            # Integer\n",
    "float_var = 20.5            # Float\n",
    "string_var = \"Hello, World\" # String\n",
    "boolean_var = True          # Boolean\n",
    "\n",
    "# Print variables and their types\n",
    "print(\"Integer Value:\", integer_var, \"| Type:\", type(integer_var))\n",
    "print(\"Float Value:\", float_var, \"| Type:\", type(float_var))\n",
    "print(\"String Value:\", string_var, \"| Type:\", type(string_var))\n",
    "print(\"Boolean Value:\", boolean_var, \"| Type:\", type(boolean_var))\n"
   ]
  },
  {
   "cell_type": "code",
   "execution_count": null,
   "id": "fce4c48d-785e-4661-9760-e2fe45a6d464",
   "metadata": {},
   "outputs": [],
   "source": []
  }
 ],
 "metadata": {
  "kernelspec": {
   "display_name": "Python 3 (ipykernel)",
   "language": "python",
   "name": "python3"
  },
  "language_info": {
   "codemirror_mode": {
    "name": "ipython",
    "version": 3
   },
   "file_extension": ".py",
   "mimetype": "text/x-python",
   "name": "python",
   "nbconvert_exporter": "python",
   "pygments_lexer": "ipython3",
   "version": "3.12.7"
  }
 },
 "nbformat": 4,
 "nbformat_minor": 5
}
