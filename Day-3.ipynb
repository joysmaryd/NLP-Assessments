{
 "cells": [
  {
   "cell_type": "code",
   "execution_count": 1,
   "id": "b8699c39-682f-400e-ad65-23868497248c",
   "metadata": {},
   "outputs": [
    {
     "name": "stdout",
     "output_type": "stream",
     "text": [
      "List Element at Index 1: 20\n",
      "List Element at Index 3: 40\n",
      "Tuple Element at Index 0: apple\n",
      "Tuple Element at Index 2: cherry\n",
      "Dictionary Value for 'name': Joysmary\n",
      "Dictionary Value for 'job': Engineer\n"
     ]
    }
   ],
   "source": [
    "#Create a list, tuple and Dictionary with 5 elements in it and how to access few elements based on the index. Try it with different examples?\n",
    "# List\n",
    "my_list = [10, 20, 30, 40, 50]\n",
    "# Tuple\n",
    "my_tuple = (\"apple\", \"banana\", \"cherry\", \"orange\", \"berry\")\n",
    "# Dictionary with 5 key-value pairs\n",
    "my_dict = {\"name\": \"Joysmary\", \"age\": 20, \"city\": \"Hyderabad\", \"job\": \"Engineer\", \"hobby\": \"Painting\"}\n",
    "print(\"List Element at Index 1:\", my_list[1]) \n",
    "print(\"List Element at Index 3:\", my_list[3])\n",
    "print(\"Tuple Element at Index 0:\", my_tuple[0]) \n",
    "print(\"Tuple Element at Index 2:\", my_tuple[2]) \n",
    "print(\"Dictionary Value for 'name':\", my_dict[\"name\"]) \n",
    "print(\"Dictionary Value for 'job':\", my_dict[\"job\"])   "
   ]
  },
  {
   "cell_type": "code",
   "execution_count": null,
   "id": "f8855fab-665a-4a9d-accc-047f685a306d",
   "metadata": {},
   "outputs": [],
   "source": []
  }
 ],
 "metadata": {
  "kernelspec": {
   "display_name": "Python 3 (ipykernel)",
   "language": "python",
   "name": "python3"
  },
  "language_info": {
   "codemirror_mode": {
    "name": "ipython",
    "version": 3
   },
   "file_extension": ".py",
   "mimetype": "text/x-python",
   "name": "python",
   "nbconvert_exporter": "python",
   "pygments_lexer": "ipython3",
   "version": "3.12.7"
  }
 },
 "nbformat": 4,
 "nbformat_minor": 5
}
