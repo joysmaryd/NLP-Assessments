{
 "cells": [
  {
   "cell_type": "code",
   "execution_count": null,
   "id": "0b80a955-7810-4618-9004-1fa7c7ddce3c",
   "metadata": {},
   "outputs": [],
   "source": [
    "# Write a Python script that:\n",
    "# 1. Use Genism to preprocess data from a sample text file, follow basic procedures like tokenization, stemming, lemmatization etc."
   ]
  },
  {
   "cell_type": "code",
   "execution_count": 1,
   "id": "35447099-edfa-4cd2-a5a8-63f68a792eba",
   "metadata": {},
   "outputs": [],
   "source": [
    "import gensim\n",
    "import nltk\n",
    "from gensim.utils import simple_preprocess\n",
    "from nltk.stem import PorterStemmer\n",
    "from nltk.corpus import wordnet\n",
    "from nltk.tokenize import word_tokenize\n",
    "from nltk.stem import WordNetLemmatizer"
   ]
  },
  {
   "cell_type": "code",
   "execution_count": 2,
   "id": "0ea96860-185d-48eb-b573-20e02aded195",
   "metadata": {},
   "outputs": [
    {
     "name": "stderr",
     "output_type": "stream",
     "text": [
      "[nltk_data] Downloading package punkt to\n",
      "[nltk_data]     C:\\Users\\joysm\\AppData\\Roaming\\nltk_data...\n",
      "[nltk_data]   Package punkt is already up-to-date!\n",
      "[nltk_data] Downloading package wordnet to\n",
      "[nltk_data]     C:\\Users\\joysm\\AppData\\Roaming\\nltk_data...\n",
      "[nltk_data]   Package wordnet is already up-to-date!\n"
     ]
    },
    {
     "data": {
      "text/plain": [
       "True"
      ]
     },
     "execution_count": 2,
     "metadata": {},
     "output_type": "execute_result"
    }
   ],
   "source": [
    "nltk.download('punkt')\n",
    "nltk.download('wordnet')"
   ]
  },
  {
   "cell_type": "code",
   "execution_count": 4,
   "id": "842ce953-08be-48bf-82c6-e907c22094d2",
   "metadata": {},
   "outputs": [
    {
     "name": "stdout",
     "output_type": "stream",
     "text": [
      "File not found. Creating a sample file...\n",
      "File loaded successfully!\n",
      "Text Content: This is a sample text file for preprocessing.\n"
     ]
    }
   ],
   "source": [
    "file_path = \"sample.txt\"\n",
    "\n",
    "# Check if the file exists, if not, create it\n",
    "try:\n",
    "    with open(file_path, 'r', encoding='utf-8') as file:\n",
    "        text = file.read()\n",
    "except FileNotFoundError:\n",
    "    print(\"File not found. Creating a sample file...\")\n",
    "    with open(file_path, 'w', encoding='utf-8') as file:\n",
    "        file.write(\"This is a sample text file for preprocessing.\")\n",
    "    \n",
    "    # Read the newly created file\n",
    "    with open(file_path, 'r', encoding='utf-8') as file:\n",
    "        text = file.read()\n",
    "\n",
    "print(\"File loaded successfully!\")\n",
    "print(\"Text Content:\", text)\n"
   ]
  },
  {
   "cell_type": "code",
   "execution_count": null,
   "id": "5897eeae-fdef-45d0-afd8-f3e9748bca51",
   "metadata": {},
   "outputs": [],
   "source": []
  }
 ],
 "metadata": {
  "kernelspec": {
   "display_name": "Python 3 (ipykernel)",
   "language": "python",
   "name": "python3"
  },
  "language_info": {
   "codemirror_mode": {
    "name": "ipython",
    "version": 3
   },
   "file_extension": ".py",
   "mimetype": "text/x-python",
   "name": "python",
   "nbconvert_exporter": "python",
   "pygments_lexer": "ipython3",
   "version": "3.12.7"
  }
 },
 "nbformat": 4,
 "nbformat_minor": 5
}
