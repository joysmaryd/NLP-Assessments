{
 "cells": [
  {
   "cell_type": "code",
   "execution_count": null,
   "id": "15c6363d-6928-47d0-ba19-bfd90f3bf7f1",
   "metadata": {},
   "outputs": [],
   "source": []
  }
 ],
 "metadata": {
  "kernelspec": {
   "display_name": "",
   "name": ""
  },
  "language_info": {
   "name": ""
  }
 },
 "nbformat": 4,
 "nbformat_minor": 5
}
