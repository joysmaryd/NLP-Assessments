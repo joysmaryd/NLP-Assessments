{
 "cells": [
  {
   "cell_type": "code",
   "execution_count": 3,
   "id": "fb5690e8-24a8-49b0-b499-54ee02ad7f76",
   "metadata": {},
   "outputs": [],
   "source": [
    "# Write a Python program to calculate the cosine similarity between two strings using the\n",
    "# Scikit-learn library. You can use the 'TfidfVectorizer' class to transform the text into vectors."
   ]
  },
  {
   "cell_type": "code",
   "execution_count": 7,
   "id": "23a87ffa-e326-4186-bb26-3c8008504029",
   "metadata": {},
   "outputs": [
    {
     "name": "stdout",
     "output_type": "stream",
     "text": [
      "Cosine Similarity: 0.0000\n"
     ]
    }
   ],
   "source": [
    "from sklearn.feature_extraction.text import TfidfVectorizer\n",
    "from sklearn.metrics.pairwise import cosine_similarity\n",
    "\n",
    "def calculate_cosine_similarity(text1, text2):\n",
    "    \"\"\"\n",
    "    Calculates cosine similarity between two strings using TfidfVectorizer.\n",
    "    \"\"\"\n",
    "    # Create a TF-IDF Vectorizer\n",
    "    vectorizer = TfidfVectorizer()\n",
    "\n",
    "    # Transform the texts into TF-IDF vectors\n",
    "    tfidf_matrix = vectorizer.fit_transform([text1, text2])\n",
    "\n",
    "    # Compute the cosine similarity\n",
    "    similarity = cosine_similarity(tfidf_matrix[0], tfidf_matrix[1])\n",
    "\n",
    "    return similarity[0][0]\n",
    "\n",
    "# Example strings\n",
    "text1 = \"Natural Language Processing is amazing.\"\n",
    "text2 = \"Machine learning and NLP are fascinating fields.\"\n",
    "\n",
    "# Calculate cosine similarity\n",
    "similarity_score = calculate_cosine_similarity(text1, text2)\n",
    "\n",
    "# Display the result\n",
    "print(f\"Cosine Similarity: {similarity_score:.4f}\")\n"
   ]
  },
  {
   "cell_type": "code",
   "execution_count": 5,
   "id": "24001d3f-b885-4f4d-9e7e-19ec7ca6383d",
   "metadata": {},
   "outputs": [
    {
     "name": "stdout",
     "output_type": "stream",
     "text": [
      "Requirement already satisfied: scikit-learn in c:\\users\\joysm\\anaconda3\\lib\\site-packages (1.5.1)\n",
      "Requirement already satisfied: numpy>=1.19.5 in c:\\users\\joysm\\anaconda3\\lib\\site-packages (from scikit-learn) (1.26.4)\n",
      "Requirement already satisfied: scipy>=1.6.0 in c:\\users\\joysm\\anaconda3\\lib\\site-packages (from scikit-learn) (1.13.1)\n",
      "Requirement already satisfied: joblib>=1.2.0 in c:\\users\\joysm\\anaconda3\\lib\\site-packages (from scikit-learn) (1.4.2)\n",
      "Requirement already satisfied: threadpoolctl>=3.1.0 in c:\\users\\joysm\\anaconda3\\lib\\site-packages (from scikit-learn) (3.5.0)\n",
      "Note: you may need to restart the kernel to use updated packages.\n"
     ]
    }
   ],
   "source": [
    "pip install scikit-learn"
   ]
  },
  {
   "cell_type": "code",
   "execution_count": null,
   "id": "8055795f-3e07-4484-9cc4-18a54bfa2403",
   "metadata": {},
   "outputs": [],
   "source": []
  }
 ],
 "metadata": {
  "kernelspec": {
   "display_name": "Python 3 (ipykernel)",
   "language": "python",
   "name": "python3"
  },
  "language_info": {
   "codemirror_mode": {
    "name": "ipython",
    "version": 3
   },
   "file_extension": ".py",
   "mimetype": "text/x-python",
   "name": "python",
   "nbconvert_exporter": "python",
   "pygments_lexer": "ipython3",
   "version": "3.12.7"
  }
 },
 "nbformat": 4,
 "nbformat_minor": 5
}
