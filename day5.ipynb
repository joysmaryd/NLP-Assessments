{
 "cells": [
  {
   "cell_type": "code",
   "execution_count": null,
   "id": "6f26dda1-c3cc-48bd-8a25-0cbfb8dd53fc",
   "metadata": {},
   "outputs": [],
   "source": []
  }
 ],
 "metadata": {
  "kernelspec": {
   "display_name": "",
   "name": ""
  },
  "language_info": {
   "name": ""
  }
 },
 "nbformat": 4,
 "nbformat_minor": 5
}
