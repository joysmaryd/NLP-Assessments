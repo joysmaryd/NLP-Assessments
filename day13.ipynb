{
 "cells": [
  {
   "cell_type": "code",
   "execution_count": 1,
   "id": "56ae557a-1667-4940-aa03-7a081993b63e",
   "metadata": {},
   "outputs": [],
   "source": [
    "# Write a Python script that:\n",
    "# 1. Tokenizes a sample paragraph into words and sentences."
   ]
  },
  {
   "cell_type": "code",
   "execution_count": 2,
   "id": "8129448f-eb9b-46a7-ab01-6c4d1943921d",
   "metadata": {},
   "outputs": [],
   "source": [
    "import nltk\n",
    "from nltk.tokenize import word_tokenize, sent_tokenize"
   ]
  },
  {
   "cell_type": "code",
   "execution_count": 3,
   "id": "290f65b6-7533-4dcd-a7eb-60c198778ede",
   "metadata": {},
   "outputs": [
    {
     "name": "stderr",
     "output_type": "stream",
     "text": [
      "[nltk_data] Downloading package punkt to\n",
      "[nltk_data]     C:\\Users\\joysm\\AppData\\Roaming\\nltk_data...\n",
      "[nltk_data]   Package punkt is already up-to-date!\n"
     ]
    },
    {
     "data": {
      "text/plain": [
       "True"
      ]
     },
     "execution_count": 3,
     "metadata": {},
     "output_type": "execute_result"
    }
   ],
   "source": [
    "nltk.download('punkt')"
   ]
  },
  {
   "cell_type": "code",
   "execution_count": 4,
   "id": "e6365067-3ebc-4409-a6a3-17ee661a4aa7",
   "metadata": {},
   "outputs": [],
   "source": [
    "# Sample paragraph\n",
    "text = \"\"\"Natural Language Processing (NLP) is a field of Artificial Intelligence. \n",
    "It focuses on the interaction between computers and humans using natural language. \n",
    "Tokenization is an essential step in text preprocessing.\"\"\""
   ]
  },
  {
   "cell_type": "code",
   "execution_count": 6,
   "id": "adf9f22f-2868-4847-b75c-84ae316c19ce",
   "metadata": {},
   "outputs": [],
   "source": [
    "# Tokenizing into sentences\n",
    "sentences = sent_tokenize(text)\n",
    "\n",
    "# Tokenizing into words\n",
    "words = word_tokenize(text)"
   ]
  },
  {
   "cell_type": "code",
   "execution_count": 7,
   "id": "32fca46f-96d0-448e-9787-183bfc6d8d16",
   "metadata": {},
   "outputs": [
    {
     "name": "stdout",
     "output_type": "stream",
     "text": [
      "\n",
      "Original Text:\n",
      " Natural Language Processing (NLP) is a field of Artificial Intelligence. \n",
      "It focuses on the interaction between computers and humans using natural language. \n",
      "Tokenization is an essential step in text preprocessing.\n",
      "\n",
      "Tokenized Sentences:\n",
      " ['Natural Language Processing (NLP) is a field of Artificial Intelligence.', 'It focuses on the interaction between computers and humans using natural language.', 'Tokenization is an essential step in text preprocessing.']\n",
      "\n",
      "Tokenized Words:\n",
      " ['Natural', 'Language', 'Processing', '(', 'NLP', ')', 'is', 'a', 'field', 'of', 'Artificial', 'Intelligence', '.', 'It', 'focuses', 'on', 'the', 'interaction', 'between', 'computers', 'and', 'humans', 'using', 'natural', 'language', '.', 'Tokenization', 'is', 'an', 'essential', 'step', 'in', 'text', 'preprocessing', '.']\n"
     ]
    }
   ],
   "source": [
    "# Display Results\n",
    "print(\"\\nOriginal Text:\\n\", text)\n",
    "print(\"\\nTokenized Sentences:\\n\", sentences)\n",
    "print(\"\\nTokenized Words:\\n\", words)"
   ]
  },
  {
   "cell_type": "code",
   "execution_count": null,
   "id": "81ee73c6-a738-4928-a55b-857e455349ab",
   "metadata": {},
   "outputs": [],
   "source": []
  }
 ],
 "metadata": {
  "kernelspec": {
   "display_name": "Python 3 (ipykernel)",
   "language": "python",
   "name": "python3"
  },
  "language_info": {
   "codemirror_mode": {
    "name": "ipython",
    "version": 3
   },
   "file_extension": ".py",
   "mimetype": "text/x-python",
   "name": "python",
   "nbconvert_exporter": "python",
   "pygments_lexer": "ipython3",
   "version": "3.12.7"
  }
 },
 "nbformat": 4,
 "nbformat_minor": 5
}
