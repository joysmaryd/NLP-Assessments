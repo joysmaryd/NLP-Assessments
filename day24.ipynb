{
 "cells": [
  {
   "cell_type": "code",
   "execution_count": null,
   "id": "09a63a96-97a2-4edd-b99b-33e120a10b76",
   "metadata": {},
   "outputs": [],
   "source": [
    "# Write a Python program to load a text file, tokenize the text using NLTK, and display the 10\n",
    "# most common words. Use the NLTK library for tokenization."
   ]
  },
  {
   "cell_type": "code",
   "execution_count": null,
   "id": "6062e748-3f85-4da8-9319-3188801af23c",
   "metadata": {},
   "outputs": [],
   "source": [
    "import nltk\n",
    "from nltk.tokenize import word_tokenize\n",
    "from nltk.probability import FreqDist\n",
    "\n",
    "# Download necessary NLTK resources (only needed once)\n",
    "nltk.download('punkt')\n",
    "\n",
    "# Load text from a file\n",
    "file_path = \"sample.txt\"  # Make sure this file exists in the same directory\n",
    "try:\n",
    "    with open(file_path, 'r', encoding='utf-8') as file:\n",
    "        text = file.read()\n",
    "except FileNotFoundError:\n",
    "    print(\"File not found. Creating a sample file...\")\n",
    "    text = \"This is a sample text file. Natural Language Processing is amazing. NLP makes machines understand text.\"\n",
    "    with open(file_path, 'w', encoding='utf-8') as file:\n",
    "        file.write(text)\n",
    "\n",
    "# Tokenize the text into words\n",
    "words = word_tokenize(text)\n",
    "\n",
    "# Compute word frequencies\n",
    "freq_dist = FreqDist(words)\n",
    "\n",
    "# Get the 10 most common words\n",
    "most_common_words = freq_dist.most_common(10)\n",
    "\n",
    "# Display the results\n",
    "print(\"\\nTop 10 Most Common Words:\")\n",
    "for word, count in most_common_words:\n",
    "    print(f\"{word}: {count}\")\n"
   ]
  },
  {
   "cell_type": "code",
   "execution_count": null,
   "id": "05bd4de3-a60b-4043-b310-9e6b4756977d",
   "metadata": {},
   "outputs": [],
   "source": []
  }
 ],
 "metadata": {
  "kernelspec": {
   "display_name": "Python 3 (ipykernel)",
   "language": "python",
   "name": "python3"
  },
  "language_info": {
   "codemirror_mode": {
    "name": "ipython",
    "version": 3
   },
   "file_extension": ".py",
   "mimetype": "text/x-python",
   "name": "python",
   "nbconvert_exporter": "python",
   "pygments_lexer": "ipython3",
   "version": "3.12.7"
  }
 },
 "nbformat": 4,
 "nbformat_minor": 5
}
