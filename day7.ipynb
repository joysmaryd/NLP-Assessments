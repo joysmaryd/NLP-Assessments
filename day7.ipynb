{
 "cells": [
  {
   "cell_type": "code",
   "execution_count": 1,
   "id": "89034fbf-e1d6-4ee4-b19a-4c8f71ccb504",
   "metadata": {},
   "outputs": [],
   "source": [
    "#Write a Python program to using NLTK and Spacy\n",
    "# Convert text to lowercase.\n",
    "# Remove stopwords using NLTK\n",
    "\n",
    "import nltk\n",
    "import spacy\n",
    "from nltk.corpus import stopwords\n",
    "from nltk.tokenize import word_tokenize"
   ]
  },
  {
   "cell_type": "code",
   "execution_count": 4,
   "id": "d38582eb-77c4-4f9f-9bba-ffec0ef28998",
   "metadata": {},
   "outputs": [
    {
     "name": "stderr",
     "output_type": "stream",
     "text": [
      "[nltk_data] Downloading package stopwords to\n",
      "[nltk_data]     C:\\Users\\joysm\\AppData\\Roaming\\nltk_data...\n",
      "[nltk_data]   Package stopwords is already up-to-date!\n",
      "[nltk_data] Downloading package punkt to\n",
      "[nltk_data]     C:\\Users\\joysm\\AppData\\Roaming\\nltk_data...\n",
      "[nltk_data]   Package punkt is already up-to-date!\n"
     ]
    },
    {
     "data": {
      "text/plain": [
       "True"
      ]
     },
     "execution_count": 4,
     "metadata": {},
     "output_type": "execute_result"
    }
   ],
   "source": [
    "nltk.download('stopwords')\n",
    "nltk.download('punkt')"
   ]
  },
  {
   "cell_type": "code",
   "execution_count": null,
   "id": "e7e4e47c-3a69-41f4-a70f-79653575dbdd",
   "metadata": {},
   "outputs": [],
   "source": [
    "# Load English stopwords from NLTK\n",
    "stop_words = set(stopwords.words('english'))\n",
    "\n",
    "# Taking input text from the user\n",
    "text = input(\"Enter a text: \")\n",
    "\n",
    "# Convert text to lowercase\n",
    "text_lower = text.lower()\n",
    "\n",
    "# Tokenize words\n",
    "words = word_tokenize(text_lower)\n",
    "\n",
    "# Remove stopwords\n",
    "filtered_words = [word for word in words if word not in stop_words]\n",
    "\n",
    "# Display results\n",
    "print(\"\\nOriginal Text:\", text)\n",
    "print(\"\\nLowercase Text:\", text_lower)\n",
    "print(\"\\nFiltered Text (Without Stopwords):\", \" \".join(filtered_words))\n"
   ]
  },
  {
   "cell_type": "code",
   "execution_count": null,
   "id": "432a74cc-7eda-4c60-8ea0-06adb36e1121",
   "metadata": {},
   "outputs": [],
   "source": []
  }
 ],
 "metadata": {
  "kernelspec": {
   "display_name": "Python 3 (ipykernel)",
   "language": "python",
   "name": "python3"
  },
  "language_info": {
   "codemirror_mode": {
    "name": "ipython",
    "version": 3
   },
   "file_extension": ".py",
   "mimetype": "text/x-python",
   "name": "python",
   "nbconvert_exporter": "python",
   "pygments_lexer": "ipython3",
   "version": "3.12.7"
  }
 },
 "nbformat": 4,
 "nbformat_minor": 5
}
