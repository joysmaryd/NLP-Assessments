{
 "cells": [
  {
   "cell_type": "code",
   "execution_count": null,
   "id": "311bcabd-c758-42ef-a76c-f3689b199c21",
   "metadata": {},
   "outputs": [],
   "source": [
    "#Write a Python program to calculate the sum of all even numbers between 1 and a given positive integer n\n",
    "\n",
    "# Taking input from the user\n",
    "n = int(input(\"Enter a positive integer: \"))\n",
    "\n",
    "# Calculating sum of even numbers from 1 to n\n",
    "even_sum = sum(num for num in range(2, n+1, 2))\n",
    "\n",
    "# Displaying the result\n",
    "print(f\"Sum of even numbers between 1 and {n}: {even_sum}\")\n"
   ]
  },
  {
   "cell_type": "code",
   "execution_count": null,
   "id": "542dd37e-ab4e-4e2e-97e9-88565a9adf76",
   "metadata": {},
   "outputs": [],
   "source": []
  }
 ],
 "metadata": {
  "kernelspec": {
   "display_name": "Python 3 (ipykernel)",
   "language": "python",
   "name": "python3"
  },
  "language_info": {
   "codemirror_mode": {
    "name": "ipython",
    "version": 3
   },
   "file_extension": ".py",
   "mimetype": "text/x-python",
   "name": "python",
   "nbconvert_exporter": "python",
   "pygments_lexer": "ipython3",
   "version": "3.12.7"
  }
 },
 "nbformat": 4,
 "nbformat_minor": 5
}
